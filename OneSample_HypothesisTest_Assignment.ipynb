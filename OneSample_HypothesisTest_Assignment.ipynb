{
  "nbformat": 4,
  "nbformat_minor": 0,
  "metadata": {
    "colab": {
      "provenance": [],
      "authorship_tag": "ABX9TyPIls4Pq9RFOeSCplg4jn4X",
      "include_colab_link": true
    },
    "kernelspec": {
      "name": "python3",
      "display_name": "Python 3"
    },
    "language_info": {
      "name": "python"
    }
  },
  "cells": [
    {
      "cell_type": "markdown",
      "metadata": {
        "id": "view-in-github",
        "colab_type": "text"
      },
      "source": [
        "<a href=\"https://colab.research.google.com/github/githubtaniya924/Data-Analysis-Internship/blob/main/OneSample_HypothesisTest_Assignment.ipynb\" target=\"_parent\"><img src=\"https://colab.research.google.com/assets/colab-badge.svg\" alt=\"Open In Colab\"/></a>"
      ]
    },
    {
      "cell_type": "markdown",
      "source": [
        "## 1.Generate synthetic data"
      ],
      "metadata": {
        "id": "Z-TWqN-8Xoxp"
      }
    },
    {
      "cell_type": "code",
      "source": [
        "import random\n",
        "data1=[]\n",
        "for i in range(100):\n",
        "  a=random.randint(1,100)\n",
        "  data1.append(a)\n",
        "\n",
        "data2=[]\n",
        "for i in range(100):\n",
        "  a=round(random.uniform(1,100))\n",
        "  data2.append(a)\n",
        "print(\"dataset 1: \",data1)\n",
        "print(\"dataset 2: \",data2)\n"
      ],
      "metadata": {
        "colab": {
          "base_uri": "https://localhost:8080/"
        },
        "id": "i5AhdIb2X27P",
        "outputId": "9b69c772-d071-4854-993c-550902a832ca"
      },
      "execution_count": null,
      "outputs": [
        {
          "output_type": "stream",
          "name": "stdout",
          "text": [
            "dataset 1:  [57, 54, 63, 63, 88, 47, 16, 52, 13, 82, 36, 80, 15, 97, 34, 72, 29, 49, 97, 16, 76, 3, 89, 75, 15, 63, 18, 97, 28, 77, 97, 69, 54, 77, 74, 95, 4, 98, 83, 32, 65, 23, 20, 97, 54, 82, 59, 51, 51, 12, 6, 10, 24, 65, 19, 7, 23, 49, 7, 79, 38, 83, 7, 83, 25, 24, 81, 94, 99, 29, 74, 9, 65, 31, 94, 76, 77, 53, 61, 42, 23, 48, 26, 39, 69, 61, 17, 11, 93, 92, 73, 7, 68, 12, 56, 89, 33, 7, 48, 9]\n",
            "dataset 2:  [58, 51, 77, 51, 50, 27, 30, 60, 72, 51, 29, 12, 47, 37, 85, 55, 65, 25, 69, 82, 64, 22, 81, 69, 66, 6, 97, 79, 54, 69, 86, 13, 8, 97, 99, 20, 27, 6, 44, 41, 15, 77, 4, 56, 73, 7, 12, 3, 76, 94, 8, 21, 65, 69, 66, 20, 87, 33, 89, 17, 73, 88, 92, 38, 68, 81, 77, 85, 14, 70, 48, 61, 62, 31, 42, 63, 43, 7, 28, 70, 80, 8, 53, 11, 15, 30, 48, 79, 90, 11, 77, 10, 19, 69, 80, 36, 17, 92, 10, 64]\n"
          ]
        }
      ]
    },
    {
      "cell_type": "markdown",
      "source": [
        "## 2.Calculate Descriptive Statistics:"
      ],
      "metadata": {
        "id": "1jqzfSXwZ84o"
      }
    },
    {
      "cell_type": "code",
      "source": [
        "#mean\n",
        "def meanVal(data1):\n",
        "    mean=sum(data1)/len(data1)\n",
        "    return mean\n",
        "\n",
        "#median\n",
        "def medianVal(data1):\n",
        "    data1.sort()\n",
        "    data1_len=len(data1)\n",
        "    if data1_len%2==0:\n",
        "        median=(data1[data1_len//2-1]+data1[data1_len//2])/2\n",
        "    else:\n",
        "        median=data1[data1_len//2]\n",
        "    return median\n",
        "\n",
        "#mode\n",
        "def modeVal(data1):\n",
        "    max=0\n",
        "    mode=0\n",
        "    for i in data1:\n",
        "      c=0\n",
        "      for j in data1:\n",
        "        if i == j:\n",
        "            c=c+1\n",
        "      if c>max:\n",
        "        max=c\n",
        "        mode=i\n",
        "    return mode\n",
        "print(meanVal(data1))\n",
        "print(medianVal(data1))\n",
        "print(modeVal(data1))\n",
        "print(\"--------------------\")\n",
        "\n",
        "#using statistics library\n",
        "import statistics\n",
        "print(statistics.mean(data1))\n",
        "print(statistics.median(data1))\n",
        "print(statistics.mode(data1))"
      ],
      "metadata": {
        "colab": {
          "base_uri": "https://localhost:8080/"
        },
        "id": "ZEMHnv9ccN5Z",
        "outputId": "cc1acb76-0ff2-4fcc-fdb9-4c697539849f"
      },
      "execution_count": null,
      "outputs": [
        {
          "output_type": "stream",
          "name": "stdout",
          "text": [
            "52.67\n",
            "53.5\n",
            "15\n",
            "--------------------\n",
            "52.67\n",
            "53.5\n",
            "15\n"
          ]
        }
      ]
    },
    {
      "cell_type": "markdown",
      "source": [
        "## 3.Hypothesis Testing:"
      ],
      "metadata": {
        "id": "C8YvLDNjmovg"
      }
    },
    {
      "cell_type": "code",
      "source": [
        "#Formulate null and alternative hypotheses to test if the mean of the dataset is significantly different from a hypothetical mean.\n",
        "#hypothetical mean = 30\n",
        "m=30\n",
        "from scipy.stats import ttest_1samp\n",
        "ttest_1samp(a=data1,popmean=30)\n",
        "\n",
        "# pvalue = 2.26e-10\n",
        "# here pvalue < 0.05, therefore null hypothesis can be safely rejected\n",
        "\n",
        "#effect size using cohen d\n",
        "mean=statistics.mean(data1)\n",
        "sd=statistics.stdev(data1)\n",
        "\n",
        "temp= (mean-m)/sd\n",
        "cohen_d = temp*2**0.5\n",
        "print(\"cohen_d: \",cohen_d)\n",
        "\n",
        "if cohen_d < 0.2:\n",
        "    print(\"neglibile effect size\")\n",
        "elif cohen_d < 0.5:\n",
        "    print(\"small effect size\")\n",
        "elif cohen_d < 0.8:\n",
        "    print(\"medium effect size\")\n",
        "else:\n",
        "    print(\"large effect size\")"
      ],
      "metadata": {
        "colab": {
          "base_uri": "https://localhost:8080/"
        },
        "id": "rRqeZ1yPmvBt",
        "outputId": "2f4bba93-7299-438a-8422-d0d5aee7c6d0"
      },
      "execution_count": null,
      "outputs": [
        {
          "output_type": "stream",
          "name": "stdout",
          "text": [
            "cohen_d:  0.9992334344721977\n",
            "large effect size\n"
          ]
        }
      ]
    },
    {
      "cell_type": "markdown",
      "source": [
        "## 4.Binomial Test:"
      ],
      "metadata": {
        "id": "JuIYwjauocnA"
      }
    },
    {
      "cell_type": "code",
      "source": [
        "#Perform a binomial test to check if the proportion of even numbers in the first dataset is significantly different from 0.5.\n",
        "#find no. of even numbers\n",
        "c=0\n",
        "for i in data1:\n",
        "  if i%2==0:\n",
        "    c=c+1\n",
        "print(\"no. of even numbers:\",c)\n",
        "\n",
        "from scipy.stats import binomtest\n",
        "binomtest(k=c,n=100,p=0.5)"
      ],
      "metadata": {
        "colab": {
          "base_uri": "https://localhost:8080/"
        },
        "id": "z-N5xWxsol5r",
        "outputId": "2f4ebc8e-8728-43aa-cf6a-2baa3f00e164"
      },
      "execution_count": null,
      "outputs": [
        {
          "output_type": "stream",
          "name": "stdout",
          "text": [
            "no. of even numbers: 39\n"
          ]
        },
        {
          "output_type": "execute_result",
          "data": {
            "text/plain": [
              "BinomTestResult(k=39, n=100, alternative='two-sided', statistic=0.39, pvalue=0.03520020021770479)"
            ]
          },
          "metadata": {},
          "execution_count": 51
        }
      ]
    },
    {
      "cell_type": "code",
      "source": [
        "#Print the p-value and interpret the result.\n",
        "'''\n",
        "pvalue = 0.03\n",
        "here pvalue < 0.05, therefore null hypothesis can be safely rejected\n",
        "The result is significant\n",
        "'''"
      ],
      "metadata": {
        "id": "jR7_acu6sQ9o"
      },
      "execution_count": null,
      "outputs": []
    },
    {
      "cell_type": "markdown",
      "source": [
        "## 5.T-Test:"
      ],
      "metadata": {
        "id": "wYrKrL8htPS-"
      }
    },
    {
      "cell_type": "code",
      "source": [
        "#Perform a t-test to compare the mean of the first dataset is significantly different from hypothetical mean=45.\n",
        "#H0 -> mean value is not different from hypothetical mean(45)\n",
        "#Ha => mean is different from hypotheical mean(45)\n",
        "\n",
        "#using student-t test\n",
        "from scipy.stats import ttest_1samp\n",
        "ttest_1samp(a=data1,popmean=45)"
      ],
      "metadata": {
        "id": "AVp4fM07tX2e",
        "colab": {
          "base_uri": "https://localhost:8080/"
        },
        "outputId": "780d5f6f-062d-4eb3-d501-9b96c1a7b12a"
      },
      "execution_count": null,
      "outputs": [
        {
          "output_type": "execute_result",
          "data": {
            "text/plain": [
              "TtestResult(statistic=2.038473899094898, pvalue=0.04416877222802731, df=99)"
            ]
          },
          "metadata": {},
          "execution_count": 52
        }
      ]
    },
    {
      "cell_type": "code",
      "source": [
        "#Print the t-statistic and p-value, and interpret the result.\n",
        "statistic = 2.038473899094898\n",
        "pvalue = 0.04416877222802731\n",
        "\n",
        "#here the pvalue < 0.05\n",
        "#Therefore the null hypothesis is rejected\n",
        "#The result is significantly different from hypothetical mean"
      ],
      "metadata": {
        "id": "1viIzw0H3Ega"
      },
      "execution_count": null,
      "outputs": []
    },
    {
      "cell_type": "markdown",
      "source": [
        "# 6.Wilcoxon Test:"
      ],
      "metadata": {
        "id": "rjx3kQ_f3qSZ"
      }
    },
    {
      "cell_type": "code",
      "source": [
        "#Perform a Wilcoxon rank-sum test to compare the median of the first dataset is different from hypothetical median =.58\n",
        "import pandas as pd\n",
        "gss_data1=pd.read_csv('GSS2012a.csv')\n",
        "\n",
        "ordinal_data=gss_data1['accntsci']\n",
        "ordinal_data.value_counts().index\n",
        "\n",
        "#replacing non-numeric vaules with numberic vaule according to the logical order\n",
        "ordinal_data = ordinal_data.replace({'Not too scientific' :0,\n",
        "                                     'Not scientific at all' :1,\n",
        "                                     'Pretty scientific' :2,\n",
        "                                     'Very scientific' :3\n",
        "                                   })\n"
      ],
      "metadata": {
        "id": "7EdmZYOb36oP"
      },
      "execution_count": null,
      "outputs": []
    },
    {
      "cell_type": "code",
      "source": [
        "from scipy.stats import wilcoxon\n",
        "ordinal_data=ordinal_data.dropna()#drop the null vaule\n",
        "m=3.1\n",
        "#wilcoxon signed-rank test\n",
        "wilcoxon(x=ordinal_data-3.1,zero_method=\"wilcox\")"
      ],
      "metadata": {
        "colab": {
          "base_uri": "https://localhost:8080/"
        },
        "id": "XNuYxowE6RAX",
        "outputId": "685c609b-cfb9-4deb-c6bf-c5626c3782d8"
      },
      "execution_count": null,
      "outputs": [
        {
          "output_type": "execute_result",
          "data": {
            "text/plain": [
              "WilcoxonResult(statistic=0.0, pvalue=2.297689656896499e-161)"
            ]
          },
          "metadata": {},
          "execution_count": 57
        }
      ]
    },
    {
      "cell_type": "code",
      "source": [
        "#Print the test statistic and p-value, and interpret the result.\n",
        "statistic=0.0\n",
        "pvalue=2.297689656896499e-161\n",
        "#here pvalue < 0.05\n",
        "#Therefore null hypothesis can be rejected\n",
        "#the median of the dataset is different from the hypothetical value\n"
      ],
      "metadata": {
        "id": "9qF-4TQV6WS3"
      },
      "execution_count": null,
      "outputs": []
    },
    {
      "cell_type": "markdown",
      "source": [
        "## 7.Pearson Goodness of Fit Test:"
      ],
      "metadata": {
        "id": "AjV9VVF071-w"
      }
    },
    {
      "cell_type": "code",
      "source": [
        "#Perform a Pearson goodness of fit test to check if the distribution of numbers in the first dataset fits a uniform distribution.\n",
        "import pandas as pd\n",
        "gss_data=pd.read_csv('GSS2012a.csv')\n",
        "\n",
        "scalevar=gss_data['age'].dropna()\n",
        "scalevar=scalevar.replace({'89 OR OLDER':90})\n",
        "scalevar=pd.to_numeric(scalevar)"
      ],
      "metadata": {
        "id": "Brk3XGJi7-KE"
      },
      "execution_count": null,
      "outputs": []
    },
    {
      "cell_type": "code",
      "source": [
        "'''\n",
        "RQ - The average age is 54\n",
        "\n",
        "H0 -> The average age is not different it is same as 54\n",
        "Ha -> The average age is different\n",
        "\n",
        "To find whether h0 is rejected or not we need to do one sample student_t test\n",
        "\n",
        "if pvalue < 0.05\n",
        "null hypothesis is rejected\n",
        "else: null hypothesis is not rejected\n",
        "\n",
        "'''"
      ],
      "metadata": {
        "id": "1pwLgU9Z8V5x"
      },
      "execution_count": null,
      "outputs": []
    },
    {
      "cell_type": "code",
      "source": [
        "from scipy.stats import ttest_1samp\n",
        "ttest_1samp(a=scalevar,popmean=54)"
      ],
      "metadata": {
        "colab": {
          "base_uri": "https://localhost:8080/"
        },
        "id": "U3Fw4Kgf8YPN",
        "outputId": "c091ade7-9707-425e-c39d-1acb142acf8c"
      },
      "execution_count": null,
      "outputs": [
        {
          "output_type": "execute_result",
          "data": {
            "text/plain": [
              "TtestResult(statistic=-14.533614104946164, pvalue=1.551989319843224e-45, df=1968)"
            ]
          },
          "metadata": {},
          "execution_count": 59
        }
      ]
    },
    {
      "cell_type": "code",
      "source": [
        "#Print the test statistic and p-value, and interpret the result.\n",
        "statistic=-14.533614104946164\n",
        "pvalue=1.551989319843224e-45\n",
        "'''\n",
        "Here the null hypothesis is rejected since pvalue < 0.05\n",
        "\n",
        "The average age is different from 54.\n",
        "\n",
        "now we can find the effect size using cohen d\n",
        "\n",
        "'''"
      ],
      "metadata": {
        "id": "lz2-hvBa8rkT"
      },
      "execution_count": null,
      "outputs": []
    },
    {
      "cell_type": "markdown",
      "source": [
        "## 8.Explain and provide an example of Type-1 and Type-2 errors in the context of the t-test performed."
      ],
      "metadata": {
        "id": "AnmmDC_49gfJ"
      }
    },
    {
      "cell_type": "code",
      "source": [
        "#type-1 error\n",
        "'''\n",
        "Type-1 error occurs when pvalue < 0.05\n",
        "\n",
        "In type-1 error the null hypothesis is rejected when it is true\n",
        "\n",
        "Here, the result is significant. i.e there is significant difference between the hypothetical value and\n",
        "the value of the dataset.\n",
        "\n",
        "Example:\n",
        "RQ - The mean is 40\n",
        "H0 -> The mean is not different it is same as 40\n",
        "Ha -> The mean is different from the hypothetical value 40\n",
        "\n",
        "Here the student-t test is used since it is a scale variable\n",
        "\n",
        "if pvalue < 0.05\n",
        "null hypothesis is rejected\n",
        "else: null hypothesis is not rejected\n",
        "\n",
        "'''\n"
      ],
      "metadata": {
        "id": "6sAI_Wlz9ndb"
      },
      "execution_count": null,
      "outputs": []
    },
    {
      "cell_type": "code",
      "source": [
        "#type-2 error\n",
        "'''\n",
        "Type-2 error occurs when pvalue > 0.05\n",
        "\n",
        "In type-2 error the null hypothesis is not rejected when it is false\n",
        "\n",
        "Here, the result is not significant. i.e there is no significant difference between the hypothetical value and\n",
        "the value of the dataset.\n",
        "\n",
        "Example:\n",
        "RQ - The mean is 40\n",
        "H0 -> The mean is not different it is same as 40\n",
        "Ha -> The mean is different from the hypothetical value 40\n",
        "\n",
        "Here the student-t test is used since it is a scale variable\n",
        "\n",
        "if pvalue > 0.05\n",
        "null hypothesis is not rejected\n",
        "else: null hypothesis is rejected\n",
        "\n",
        "'''\n",
        "\n"
      ],
      "metadata": {
        "id": "ZoT1MmSKAUJr"
      },
      "execution_count": null,
      "outputs": []
    }
  ]
}